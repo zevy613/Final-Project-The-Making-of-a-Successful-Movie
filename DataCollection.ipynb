{
 "cells": [
  {
   "cell_type": "markdown",
   "id": "b6b92634",
   "metadata": {},
   "source": [
    "## imports and data urls"
   ]
  },
  {
   "cell_type": "code",
   "execution_count": 7,
   "id": "2e60ce4a",
   "metadata": {},
   "outputs": [],
   "source": [
    "import pandas as pd\n",
    "import numpy as np\n",
    "\n",
    "url1 = \"https://datasets.imdbws.com/title.basics.tsv.gz\"\n",
    "url2 = \"https://datasets.imdbws.com/title.akas.tsv.gz\"\n",
    "url3 = \"https://datasets.imdbws.com/title.ratings.tsv.gz\""
   ]
  },
  {
   "cell_type": "markdown",
   "id": "d0a264bb",
   "metadata": {},
   "source": [
    "## Lets clean akas"
   ]
  },
  {
   "cell_type": "code",
   "execution_count": 2,
   "id": "9db3f4d4",
   "metadata": {},
   "outputs": [
    {
     "name": "stdout",
     "output_type": "stream",
     "text": [
      "CPU times: total: 2min 59s\n",
      "Wall time: 6min 8s\n"
     ]
    }
   ],
   "source": [
    "%%time\n",
    "\n",
    "# Load akas Data\n",
    "akas = pd.read_csv(url2, sep='\\t', low_memory=False)"
   ]
  },
  {
   "cell_type": "code",
   "execution_count": 3,
   "id": "b26fac01",
   "metadata": {},
   "outputs": [
    {
     "name": "stdout",
     "output_type": "stream",
     "text": [
      "<class 'pandas.core.frame.DataFrame'>\n",
      "Int64Index: 1361344 entries, 5 to 33544157\n",
      "Data columns (total 8 columns):\n",
      " #   Column           Non-Null Count    Dtype \n",
      "---  ------           --------------    ----- \n",
      " 0   titleId          1361344 non-null  object\n",
      " 1   ordering         1361344 non-null  int64 \n",
      " 2   title            1361344 non-null  object\n",
      " 3   region           1361344 non-null  object\n",
      " 4   language         3695 non-null     object\n",
      " 5   types            965071 non-null   object\n",
      " 6   attributes       45205 non-null    object\n",
      " 7   isOriginalTitle  1359969 non-null  object\n",
      "dtypes: int64(1), object(7)\n",
      "memory usage: 93.5+ MB\n",
      "CPU times: total: 1min 34s\n",
      "Wall time: 1min 51s\n"
     ]
    }
   ],
   "source": [
    "%%time\n",
    "\n",
    "akas.replace({'\\\\N':np.nan}, inplace=True)\n",
    "akas = akas[(akas['region'] == 'US')]\n",
    "akas.info()"
   ]
  },
  {
   "cell_type": "markdown",
   "id": "af51332c",
   "metadata": {},
   "source": [
    "## Lets clean title.basics dataset"
   ]
  },
  {
   "cell_type": "code",
   "execution_count": 14,
   "id": "257c6aed",
   "metadata": {},
   "outputs": [
    {
     "name": "stdout",
     "output_type": "stream",
     "text": [
      "CPU times: total: 44.7 s\n",
      "Wall time: 1min 14s\n"
     ]
    }
   ],
   "source": [
    "%%time\n",
    "\n",
    "# Load basics Data\n",
    "basics = pd.read_csv(url1, sep='\\t', low_memory=False)"
   ]
  },
  {
   "cell_type": "code",
   "execution_count": 18,
   "id": "6e492289",
   "metadata": {},
   "outputs": [
    {
     "data": {
      "text/plain": [
       "tconst             0\n",
       "titleType          0\n",
       "primaryTitle      11\n",
       "originalTitle     11\n",
       "isAdult            0\n",
       "startYear          0\n",
       "endYear            0\n",
       "runtimeMinutes     0\n",
       "genres            10\n",
       "dtype: int64"
      ]
     },
     "execution_count": 18,
     "metadata": {},
     "output_type": "execute_result"
    }
   ],
   "source": [
    "basics.isna().sum()"
   ]
  },
  {
   "cell_type": "code",
   "execution_count": 19,
   "id": "62565209",
   "metadata": {},
   "outputs": [],
   "source": [
    "# Replace '\\N' with np.nan\n",
    "basics.replace({'\\\\N':np.nan}, inplace=True)"
   ]
  },
  {
   "cell_type": "code",
   "execution_count": null,
   "id": "f5aee95f",
   "metadata": {},
   "outputs": [],
   "source": []
  },
  {
   "cell_type": "code",
   "execution_count": 20,
   "id": "6e198f56",
   "metadata": {},
   "outputs": [
    {
     "name": "stdout",
     "output_type": "stream",
     "text": [
      "<class 'pandas.core.frame.DataFrame'>\n",
      "RangeIndex: 9308649 entries, 0 to 9308648\n",
      "Data columns (total 9 columns):\n",
      " #   Column          Dtype  \n",
      "---  ------          -----  \n",
      " 0   tconst          object \n",
      " 1   titleType       object \n",
      " 2   primaryTitle    object \n",
      " 3   originalTitle   object \n",
      " 4   isAdult         object \n",
      " 5   startYear       object \n",
      " 6   endYear         object \n",
      " 7   runtimeMinutes  object \n",
      " 8   genres          float64\n",
      "dtypes: float64(1), object(8)\n",
      "memory usage: 639.2+ MB\n",
      "None\n",
      "<class 'pandas.core.frame.DataFrame'>\n",
      "Int64Index: 0 entries\n",
      "Data columns (total 9 columns):\n",
      " #   Column          Non-Null Count  Dtype  \n",
      "---  ------          --------------  -----  \n",
      " 0   tconst          0 non-null      object \n",
      " 1   titleType       0 non-null      object \n",
      " 2   primaryTitle    0 non-null      object \n",
      " 3   originalTitle   0 non-null      object \n",
      " 4   isAdult         0 non-null      object \n",
      " 5   startYear       0 non-null      object \n",
      " 6   endYear         0 non-null      object \n",
      " 7   runtimeMinutes  0 non-null      object \n",
      " 8   genres          0 non-null      float64\n",
      "dtypes: float64(1), object(8)\n",
      "memory usage: 0.0+ bytes\n",
      "None\n"
     ]
    }
   ],
   "source": [
    "# Drop any rows that have null values in either genre or runtimeMinutes.\n",
    "print(basics.info())\n",
    "basics = basics.dropna(subset=['runtimeMinutes', 'genres'])\n",
    "print(basics.info())"
   ]
  },
  {
   "cell_type": "code",
   "execution_count": 7,
   "id": "62a3f913",
   "metadata": {},
   "outputs": [],
   "source": [
    "# Drop all rows where titleType!=Movie. Keep only titleType==Movie\n",
    "is_Movie = basics['titleType'] == 'movie'\n",
    "basics = basics[is_Movie]"
   ]
  },
  {
   "cell_type": "code",
   "execution_count": 8,
   "id": "614a9c94",
   "metadata": {},
   "outputs": [
    {
     "name": "stdout",
     "output_type": "stream",
     "text": [
      "\n",
      "Data Type before conversion :  object\n",
      "\n",
      "Data Type after conversion :  int64\n"
     ]
    }
   ],
   "source": [
    "# Drop all rows where the start year is not between 2000-2022. Keep startYear 2000-2022\n",
    "\n",
    "# We first need to change the column type to something numeric.\n",
    "print(\"\\nData Type before conversion : \", basics['startYear'].dtype)\n",
    "basics['startYear'] = pd.to_numeric(basics['startYear'])\n",
    "print(\"\\nData Type after conversion : \", basics['startYear'].dtype)\n",
    "\n",
    "#Now we can make and apply our filters\n",
    "filter2000 = basics['startYear'] >= 2000 \n",
    "filter2022 = basics['startYear'] <=2022\n",
    "basics = basics[filter2000 & filter2022]"
   ]
  },
  {
   "cell_type": "code",
   "execution_count": 17,
   "id": "a08f24a6",
   "metadata": {},
   "outputs": [
    {
     "name": "stdout",
     "output_type": "stream",
     "text": [
      "<class 'pandas.core.frame.DataFrame'>\n",
      "Int64Index: 0 entries\n",
      "Data columns (total 9 columns):\n",
      " #   Column          Non-Null Count  Dtype  \n",
      "---  ------          --------------  -----  \n",
      " 0   tconst          0 non-null      object \n",
      " 1   titleType       0 non-null      object \n",
      " 2   primaryTitle    0 non-null      object \n",
      " 3   originalTitle   0 non-null      object \n",
      " 4   isAdult         0 non-null      object \n",
      " 5   startYear       0 non-null      int64  \n",
      " 6   endYear         0 non-null      object \n",
      " 7   runtimeMinutes  0 non-null      object \n",
      " 8   genres          0 non-null      float64\n",
      "dtypes: float64(1), int64(1), object(7)\n",
      "memory usage: 0.0+ bytes\n"
     ]
    }
   ],
   "source": [
    "# Exclude movies that are included in the documentary category.\n",
    "basics.info()\n",
    "# is_documentary = basics['genres'].str.contains('documentary', case=False)\n",
    "# basics = basics[~is_documentary]"
   ]
  },
  {
   "cell_type": "code",
   "execution_count": null,
   "id": "25d4d591",
   "metadata": {},
   "outputs": [],
   "source": [
    "# Filter the basics table down to only include the US by using the filter akas dataframe\n",
    "keepers_basics = basics['tconst'].isin(akas['titleId'])\n",
    "basics = basics[keepers_basics]\n",
    "\n",
    "basics.info()"
   ]
  },
  {
   "cell_type": "markdown",
   "id": "17072ec7",
   "metadata": {},
   "source": [
    "## Lets clean ratings"
   ]
  },
  {
   "cell_type": "code",
   "execution_count": null,
   "id": "387843bc",
   "metadata": {},
   "outputs": [],
   "source": [
    "%%time\n",
    "\n",
    "# Load ratings Data\n",
    "ratings = pd.read_csv(url3, sep='\\t', low_memory=False)"
   ]
  },
  {
   "cell_type": "code",
   "execution_count": null,
   "id": "3d0e34d4",
   "metadata": {},
   "outputs": [],
   "source": [
    "ratings.replace({'\\\\N':np.nan}, inplace=True)\n",
    "keepers = ratings['tconst'].isin(akas['titleId'])\n",
    "ratings = ratings[keepers]\n",
    "\n",
    "ratings.info()"
   ]
  },
  {
   "cell_type": "markdown",
   "id": "70289ce6",
   "metadata": {},
   "source": [
    "## save cleaned files in Data folder"
   ]
  },
  {
   "cell_type": "code",
   "execution_count": null,
   "id": "5d466d68",
   "metadata": {},
   "outputs": [],
   "source": [
    "# Save current dataframe to file.\n",
    "basics.to_csv(\"Data/title_basics.csv.gz\",compression='gzip',index=False)\n",
    "akas.to_csv(\"Data/title_akas.csv.gz\",compression='gzip',index=False)\n",
    "ratings.to_csv(\"Data/title_ratings.csv.gz\",compression='gzip',index=False)\n",
    "print(\"Done!\")"
   ]
  }
 ],
 "metadata": {
  "kernelspec": {
   "display_name": "Python (dojo-env)",
   "language": "python",
   "name": "dojo-env"
  },
  "language_info": {
   "codemirror_mode": {
    "name": "ipython",
    "version": 3
   },
   "file_extension": ".py",
   "mimetype": "text/x-python",
   "name": "python",
   "nbconvert_exporter": "python",
   "pygments_lexer": "ipython3",
   "version": "3.8.13"
  },
  "toc": {
   "base_numbering": "",
   "nav_menu": {},
   "number_sections": false,
   "sideBar": false,
   "skip_h1_title": false,
   "title_cell": "Table of Contents",
   "title_sidebar": "Contents",
   "toc_cell": false,
   "toc_position": {
    "height": "397.333px",
    "left": "21px",
    "top": "111.125px",
    "width": "256px"
   },
   "toc_section_display": false,
   "toc_window_display": false
  }
 },
 "nbformat": 4,
 "nbformat_minor": 5
}
