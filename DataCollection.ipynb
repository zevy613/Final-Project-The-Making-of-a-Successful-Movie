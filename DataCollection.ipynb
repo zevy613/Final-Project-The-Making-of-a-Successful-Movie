{
 "cells": [
  {
   "cell_type": "markdown",
   "id": "b6b92634",
   "metadata": {},
   "source": [
    "## imports and data urls"
   ]
  },
  {
   "cell_type": "code",
   "execution_count": 2,
   "id": "2e60ce4a",
   "metadata": {},
   "outputs": [],
   "source": [
    "import pandas as pd\n",
    "import numpy as np\n",
    "\n",
    "url1 = \"https://datasets.imdbws.com/title.basics.tsv.gz\"\n",
    "url2 = \"https://datasets.imdbws.com/title.akas.tsv.gz\"\n",
    "url3 = \"https://datasets.imdbws.com/title.ratings.tsv.gz\""
   ]
  },
  {
   "cell_type": "markdown",
   "id": "d0a264bb",
   "metadata": {},
   "source": [
    "## Lets clean akas"
   ]
  },
  {
   "cell_type": "code",
   "execution_count": 2,
   "id": "9db3f4d4",
   "metadata": {},
   "outputs": [
    {
     "name": "stdout",
     "output_type": "stream",
     "text": [
      "CPU times: total: 2min 59s\n",
      "Wall time: 6min 8s\n"
     ]
    }
   ],
   "source": [
    "%%time\n",
    "\n",
    "# Load akas Data\n",
    "akas = pd.read_csv(url2, sep='\\t', low_memory=False)"
   ]
  },
  {
   "cell_type": "code",
   "execution_count": 3,
   "id": "b26fac01",
   "metadata": {},
   "outputs": [
    {
     "name": "stdout",
     "output_type": "stream",
     "text": [
      "<class 'pandas.core.frame.DataFrame'>\n",
      "Int64Index: 1361344 entries, 5 to 33544157\n",
      "Data columns (total 8 columns):\n",
      " #   Column           Non-Null Count    Dtype \n",
      "---  ------           --------------    ----- \n",
      " 0   titleId          1361344 non-null  object\n",
      " 1   ordering         1361344 non-null  int64 \n",
      " 2   title            1361344 non-null  object\n",
      " 3   region           1361344 non-null  object\n",
      " 4   language         3695 non-null     object\n",
      " 5   types            965071 non-null   object\n",
      " 6   attributes       45205 non-null    object\n",
      " 7   isOriginalTitle  1359969 non-null  object\n",
      "dtypes: int64(1), object(7)\n",
      "memory usage: 93.5+ MB\n",
      "CPU times: total: 1min 34s\n",
      "Wall time: 1min 51s\n"
     ]
    }
   ],
   "source": [
    "%%time\n",
    "\n",
    "akas.replace({'\\\\N':np.nan}, inplace=True)\n",
    "akas = akas[(akas['region'] == 'US')]\n",
    "akas.info()"
   ]
  },
  {
   "cell_type": "markdown",
   "id": "af51332c",
   "metadata": {},
   "source": [
    "## Lets clean title.basics dataset"
   ]
  },
  {
   "cell_type": "code",
   "execution_count": 3,
   "id": "257c6aed",
   "metadata": {},
   "outputs": [
    {
     "name": "stderr",
     "output_type": "stream",
     "text": [
      "<timed exec>:2: DtypeWarning: Columns (4) have mixed types. Specify dtype option on import or set low_memory=False.\n"
     ]
    },
    {
     "name": "stdout",
     "output_type": "stream",
     "text": [
      "CPU times: total: 47.9 s\n",
      "Wall time: 1min 23s\n"
     ]
    }
   ],
   "source": [
    "%%time\n",
    "\n",
    "# Load basics Data\n",
    "basics = pd.read_csv(url1, sep='\\t', low_memory=True)"
   ]
  },
  {
   "cell_type": "code",
   "execution_count": 8,
   "id": "381daca0",
   "metadata": {},
   "outputs": [
    {
     "name": "stdout",
     "output_type": "stream",
     "text": [
      "0           Documentary,Short\n",
      "1             Animation,Short\n",
      "2    Animation,Comedy,Romance\n",
      "3             Animation,Short\n",
      "4                Comedy,Short\n",
      "Name: genres, dtype: object\n"
     ]
    }
   ],
   "source": [
    "print(basics['genres'][0:5])"
   ]
  },
  {
   "cell_type": "code",
   "execution_count": 6,
   "id": "6e492289",
   "metadata": {},
   "outputs": [
    {
     "data": {
      "text/plain": [
       "tconst             0\n",
       "titleType          0\n",
       "primaryTitle      11\n",
       "originalTitle     11\n",
       "isAdult            0\n",
       "startYear          0\n",
       "endYear            0\n",
       "runtimeMinutes     0\n",
       "genres            10\n",
       "dtype: int64"
      ]
     },
     "execution_count": 6,
     "metadata": {},
     "output_type": "execute_result"
    }
   ],
   "source": [
    "basics.isna().sum()"
   ]
  },
  {
   "cell_type": "code",
   "execution_count": 10,
   "id": "62565209",
   "metadata": {},
   "outputs": [],
   "source": [
    "# Replace '\\N' with np.nan\n",
    "basics.replace({'\\\\N':np.nan}, inplace=True)"
   ]
  },
  {
   "cell_type": "code",
   "execution_count": 11,
   "id": "99cd28fb",
   "metadata": {},
   "outputs": [
    {
     "name": "stdout",
     "output_type": "stream",
     "text": [
      "0           Documentary,Short\n",
      "1             Animation,Short\n",
      "2    Animation,Comedy,Romance\n",
      "3             Animation,Short\n",
      "4                Comedy,Short\n",
      "Name: genres, dtype: object\n"
     ]
    }
   ],
   "source": [
    "print(basics['genres'][0:5])"
   ]
  },
  {
   "cell_type": "code",
   "execution_count": 12,
   "id": "6e198f56",
   "metadata": {
    "scrolled": true
   },
   "outputs": [
    {
     "name": "stdout",
     "output_type": "stream",
     "text": [
      "<class 'pandas.core.frame.DataFrame'>\n",
      "RangeIndex: 9320186 entries, 0 to 9320185\n",
      "Data columns (total 9 columns):\n",
      " #   Column          Dtype \n",
      "---  ------          ----- \n",
      " 0   tconst          object\n",
      " 1   titleType       object\n",
      " 2   primaryTitle    object\n",
      " 3   originalTitle   object\n",
      " 4   isAdult         object\n",
      " 5   startYear       object\n",
      " 6   endYear         object\n",
      " 7   runtimeMinutes  object\n",
      " 8   genres          object\n",
      "dtypes: object(9)\n",
      "memory usage: 640.0+ MB\n",
      "None\n",
      "<class 'pandas.core.frame.DataFrame'>\n",
      "Int64Index: 2458617 entries, 0 to 9320185\n",
      "Data columns (total 9 columns):\n",
      " #   Column          Dtype \n",
      "---  ------          ----- \n",
      " 0   tconst          object\n",
      " 1   titleType       object\n",
      " 2   primaryTitle    object\n",
      " 3   originalTitle   object\n",
      " 4   isAdult         object\n",
      " 5   startYear       object\n",
      " 6   endYear         object\n",
      " 7   runtimeMinutes  object\n",
      " 8   genres          object\n",
      "dtypes: object(9)\n",
      "memory usage: 187.6+ MB\n",
      "None\n"
     ]
    }
   ],
   "source": [
    "# Drop any rows that have null values in either genre or runtimeMinutes.\n",
    "print(basics.info())\n",
    "basics = basics.dropna(subset=['runtimeMinutes', 'genres'])\n",
    "print(basics.info())"
   ]
  },
  {
   "cell_type": "code",
   "execution_count": 13,
   "id": "62a3f913",
   "metadata": {},
   "outputs": [],
   "source": [
    "# Drop all rows where titleType!=Movie. Keep only titleType==Movie\n",
    "is_Movie = basics['titleType'] == 'movie'\n",
    "basics = basics[is_Movie]"
   ]
  },
  {
   "cell_type": "code",
   "execution_count": 15,
   "id": "a6839241",
   "metadata": {},
   "outputs": [
    {
     "name": "stdout",
     "output_type": "stream",
     "text": [
      "8                          Romance\n",
      "570     Action,Adventure,Biography\n",
      "587                          Drama\n",
      "672              Adventure,Fantasy\n",
      "1172               Adventure,Drama\n",
      "Name: genres, dtype: object\n",
      "<class 'pandas.core.frame.DataFrame'>\n",
      "Int64Index: 370525 entries, 8 to 9320136\n",
      "Data columns (total 9 columns):\n",
      " #   Column          Non-Null Count   Dtype \n",
      "---  ------          --------------   ----- \n",
      " 0   tconst          370525 non-null  object\n",
      " 1   titleType       370525 non-null  object\n",
      " 2   primaryTitle    370525 non-null  object\n",
      " 3   originalTitle   370525 non-null  object\n",
      " 4   isAdult         370525 non-null  object\n",
      " 5   startYear       364601 non-null  object\n",
      " 6   endYear         0 non-null       object\n",
      " 7   runtimeMinutes  370525 non-null  object\n",
      " 8   genres          370525 non-null  object\n",
      "dtypes: object(9)\n",
      "memory usage: 28.3+ MB\n"
     ]
    }
   ],
   "source": [
    "print(basics['genres'][0:5])\n",
    "basics.info()"
   ]
  },
  {
   "cell_type": "code",
   "execution_count": 16,
   "id": "614a9c94",
   "metadata": {},
   "outputs": [
    {
     "name": "stdout",
     "output_type": "stream",
     "text": [
      "\n",
      "Data Type before conversion :  object\n",
      "\n",
      "Data Type after conversion :  float64\n"
     ]
    }
   ],
   "source": [
    "# Drop all rows where the start year is not between 2000-2022. Keep startYear 2000-2022\n",
    "\n",
    "# We first need to change the column type to something numeric.\n",
    "print(\"\\nData Type before conversion : \", basics['startYear'].dtype)\n",
    "basics['startYear'] = pd.to_numeric(basics['startYear'])\n",
    "print(\"\\nData Type after conversion : \", basics['startYear'].dtype)\n",
    "\n",
    "#Now we can make and apply our filters\n",
    "filter2000 = basics['startYear'] >= 2000 \n",
    "filter2022 = basics['startYear'] <=2022\n",
    "basics = basics[filter2000 & filter2022]"
   ]
  },
  {
   "cell_type": "code",
   "execution_count": 18,
   "id": "a08f24a6",
   "metadata": {},
   "outputs": [
    {
     "name": "stdout",
     "output_type": "stream",
     "text": [
      "<class 'pandas.core.frame.DataFrame'>\n",
      "Int64Index: 217883 entries, 13079 to 9320136\n",
      "Data columns (total 9 columns):\n",
      " #   Column          Non-Null Count   Dtype  \n",
      "---  ------          --------------   -----  \n",
      " 0   tconst          217883 non-null  object \n",
      " 1   titleType       217883 non-null  object \n",
      " 2   primaryTitle    217883 non-null  object \n",
      " 3   originalTitle   217883 non-null  object \n",
      " 4   isAdult         217883 non-null  object \n",
      " 5   startYear       217883 non-null  float64\n",
      " 6   endYear         0 non-null       object \n",
      " 7   runtimeMinutes  217883 non-null  object \n",
      " 8   genres          217883 non-null  object \n",
      "dtypes: float64(1), object(8)\n",
      "memory usage: 16.6+ MB\n"
     ]
    }
   ],
   "source": [
    "# Exclude movies that are included in the documentary category.\n",
    "basics.info()\n",
    "is_documentary = basics['genres'].str.contains('documentary', case=False)\n",
    "basics = basics[~is_documentary]"
   ]
  },
  {
   "cell_type": "code",
   "execution_count": 20,
   "id": "b79ccb67",
   "metadata": {},
   "outputs": [
    {
     "ename": "NameError",
     "evalue": "name 'akas' is not defined",
     "output_type": "error",
     "traceback": [
      "\u001b[1;31m---------------------------------------------------------------------------\u001b[0m",
      "\u001b[1;31mNameError\u001b[0m                                 Traceback (most recent call last)",
      "Cell \u001b[1;32mIn [20], line 1\u001b[0m\n\u001b[1;32m----> 1\u001b[0m \u001b[38;5;28mprint\u001b[39m(\u001b[43makas\u001b[49m[\u001b[38;5;124m'\u001b[39m\u001b[38;5;124mtitleId\u001b[39m\u001b[38;5;124m'\u001b[39m][\u001b[38;5;241m0\u001b[39m:\u001b[38;5;241m3\u001b[39m])\n\u001b[0;32m      2\u001b[0m \u001b[38;5;28mprint\u001b[39m(basics[\u001b[38;5;124m'\u001b[39m\u001b[38;5;124mtconst\u001b[39m\u001b[38;5;124m'\u001b[39m])[\u001b[38;5;241m0\u001b[39m:\u001b[38;5;241m3\u001b[39m]\n",
      "\u001b[1;31mNameError\u001b[0m: name 'akas' is not defined"
     ]
    }
   ],
   "source": [
    "print(akas['titleId'][0:3])\n",
    "print(basics['tconst'])[0:3]"
   ]
  },
  {
   "cell_type": "code",
   "execution_count": null,
   "id": "25d4d591",
   "metadata": {},
   "outputs": [],
   "source": [
    "# Filter the basics table down to only include the US by using the filter akas dataframe\n",
    "keepers_basics = basics['tconst'].isin(akas['titleId'])\n",
    "basics = basics[keepers_basics]\n",
    "\n",
    "basics.info()"
   ]
  },
  {
   "cell_type": "markdown",
   "id": "17072ec7",
   "metadata": {},
   "source": [
    "## Lets clean ratings"
   ]
  },
  {
   "cell_type": "code",
   "execution_count": null,
   "id": "387843bc",
   "metadata": {},
   "outputs": [],
   "source": [
    "%%time\n",
    "\n",
    "# Load ratings Data\n",
    "ratings = pd.read_csv(url3, sep='\\t', low_memory=False)"
   ]
  },
  {
   "cell_type": "code",
   "execution_count": null,
   "id": "3d0e34d4",
   "metadata": {},
   "outputs": [],
   "source": [
    "ratings.replace({'\\\\N':np.nan}, inplace=True)\n",
    "keepers = ratings['tconst'].isin(akas['titleId'])\n",
    "ratings = ratings[keepers]\n",
    "\n",
    "ratings.info()"
   ]
  },
  {
   "cell_type": "markdown",
   "id": "70289ce6",
   "metadata": {},
   "source": [
    "## save cleaned files in Data folder"
   ]
  },
  {
   "cell_type": "code",
   "execution_count": null,
   "id": "5d466d68",
   "metadata": {},
   "outputs": [],
   "source": [
    "# Save current dataframe to file.\n",
    "basics.to_csv(\"Data/title_basics.csv.gz\",compression='gzip',index=False)\n",
    "akas.to_csv(\"Data/title_akas.csv.gz\",compression='gzip',index=False)\n",
    "ratings.to_csv(\"Data/title_ratings.csv.gz\",compression='gzip',index=False)\n",
    "print(\"Done!\")"
   ]
  }
 ],
 "metadata": {
  "kernelspec": {
   "display_name": "Python (dojo-env)",
   "language": "python",
   "name": "dojo-env"
  },
  "language_info": {
   "codemirror_mode": {
    "name": "ipython",
    "version": 3
   },
   "file_extension": ".py",
   "mimetype": "text/x-python",
   "name": "python",
   "nbconvert_exporter": "python",
   "pygments_lexer": "ipython3",
   "version": "3.8.13"
  },
  "toc": {
   "base_numbering": "",
   "nav_menu": {},
   "number_sections": false,
   "sideBar": false,
   "skip_h1_title": false,
   "title_cell": "Table of Contents",
   "title_sidebar": "Contents",
   "toc_cell": false,
   "toc_position": {
    "height": "397.333px",
    "left": "21px",
    "top": "111.125px",
    "width": "256px"
   },
   "toc_section_display": false,
   "toc_window_display": false
  }
 },
 "nbformat": 4,
 "nbformat_minor": 5
}
