{
 "cells": [
  {
   "cell_type": "code",
   "execution_count": 1,
   "id": "facfcf6f",
   "metadata": {},
   "outputs": [],
   "source": [
    "# import necessary imports\n",
    "import json\n",
    "import pandas as pd\n",
    "import numpy as np\n",
    "import seaborn as sns\n",
    "from scipy import stats\n",
    "import matplotlib.pyplot as plt\n",
    "\n",
    "import pymysql\n",
    "pymysql.install_as_MySQLdb()\n",
    "\n",
    "from sqlalchemy import create_engine\n",
    "from sqlalchemy_utils import create_database, database_exists\n",
    "\n",
    "# Tukeys pairwise test\n",
    "from statsmodels.stats.multicomp import pairwise_tukeyhsd\n",
    "\n",
    "from urllib.parse import quote_plus as urlquote"
   ]
  },
  {
   "cell_type": "code",
   "execution_count": 2,
   "id": "d5c6e718",
   "metadata": {},
   "outputs": [
    {
     "data": {
      "text/html": [
       "<div>\n",
       "<style scoped>\n",
       "    .dataframe tbody tr th:only-of-type {\n",
       "        vertical-align: middle;\n",
       "    }\n",
       "\n",
       "    .dataframe tbody tr th {\n",
       "        vertical-align: top;\n",
       "    }\n",
       "\n",
       "    .dataframe thead th {\n",
       "        text-align: right;\n",
       "    }\n",
       "</style>\n",
       "<table border=\"1\" class=\"dataframe\">\n",
       "  <thead>\n",
       "    <tr style=\"text-align: right;\">\n",
       "      <th></th>\n",
       "      <th>adult</th>\n",
       "      <th>backdrop_path</th>\n",
       "      <th>belongs_to_collection</th>\n",
       "      <th>budget</th>\n",
       "      <th>genres</th>\n",
       "      <th>homepage</th>\n",
       "      <th>id</th>\n",
       "      <th>original_language</th>\n",
       "      <th>original_title</th>\n",
       "      <th>overview</th>\n",
       "      <th>...</th>\n",
       "      <th>revenue</th>\n",
       "      <th>runtime</th>\n",
       "      <th>spoken_languages</th>\n",
       "      <th>status</th>\n",
       "      <th>tagline</th>\n",
       "      <th>title</th>\n",
       "      <th>video</th>\n",
       "      <th>vote_average</th>\n",
       "      <th>vote_count</th>\n",
       "      <th>certification</th>\n",
       "    </tr>\n",
       "  </thead>\n",
       "  <tbody>\n",
       "    <tr>\n",
       "      <th>0</th>\n",
       "      <td>NaN</td>\n",
       "      <td>NaN</td>\n",
       "      <td>NaN</td>\n",
       "      <td>NaN</td>\n",
       "      <td>NaN</td>\n",
       "      <td>NaN</td>\n",
       "      <td>NaN</td>\n",
       "      <td>NaN</td>\n",
       "      <td>NaN</td>\n",
       "      <td>NaN</td>\n",
       "      <td>...</td>\n",
       "      <td>NaN</td>\n",
       "      <td>NaN</td>\n",
       "      <td>NaN</td>\n",
       "      <td>NaN</td>\n",
       "      <td>NaN</td>\n",
       "      <td>NaN</td>\n",
       "      <td>NaN</td>\n",
       "      <td>NaN</td>\n",
       "      <td>NaN</td>\n",
       "      <td>NaN</td>\n",
       "    </tr>\n",
       "    <tr>\n",
       "      <th>1</th>\n",
       "      <td>0.0</td>\n",
       "      <td>/vMFs7nw6P0bIV1jDsQpxAieAVnH.jpg</td>\n",
       "      <td>NaN</td>\n",
       "      <td>10000000.0</td>\n",
       "      <td>[{'id': 35, 'name': 'Comedy'}, {'id': 10402, '...</td>\n",
       "      <td>NaN</td>\n",
       "      <td>62127.0</td>\n",
       "      <td>en</td>\n",
       "      <td>The Fantasticks</td>\n",
       "      <td>Two rural teens sing and dance their way throu...</td>\n",
       "      <td>...</td>\n",
       "      <td>0.0</td>\n",
       "      <td>86.0</td>\n",
       "      <td>[{'english_name': 'English', 'iso_639_1': 'en'...</td>\n",
       "      <td>Released</td>\n",
       "      <td>Try to remember the first time magic happened</td>\n",
       "      <td>The Fantasticks</td>\n",
       "      <td>0.0</td>\n",
       "      <td>5.500</td>\n",
       "      <td>22.0</td>\n",
       "      <td>NaN</td>\n",
       "    </tr>\n",
       "    <tr>\n",
       "      <th>2</th>\n",
       "      <td>0.0</td>\n",
       "      <td>NaN</td>\n",
       "      <td>NaN</td>\n",
       "      <td>0.0</td>\n",
       "      <td>[{'id': 878, 'name': 'Science Fiction'}]</td>\n",
       "      <td>NaN</td>\n",
       "      <td>110977.0</td>\n",
       "      <td>en</td>\n",
       "      <td>For the Cause</td>\n",
       "      <td>Earth is in a state of constant war and two co...</td>\n",
       "      <td>...</td>\n",
       "      <td>0.0</td>\n",
       "      <td>100.0</td>\n",
       "      <td>[{'english_name': 'English', 'iso_639_1': 'en'...</td>\n",
       "      <td>Released</td>\n",
       "      <td>The ultimate showdown on a forbidden planet.</td>\n",
       "      <td>For the Cause</td>\n",
       "      <td>0.0</td>\n",
       "      <td>5.100</td>\n",
       "      <td>8.0</td>\n",
       "      <td>NaN</td>\n",
       "    </tr>\n",
       "    <tr>\n",
       "      <th>3</th>\n",
       "      <td>0.0</td>\n",
       "      <td>NaN</td>\n",
       "      <td>NaN</td>\n",
       "      <td>0.0</td>\n",
       "      <td>[{'id': 18, 'name': 'Drama'}, {'id': 28, 'name...</td>\n",
       "      <td>NaN</td>\n",
       "      <td>442869.0</td>\n",
       "      <td>hi</td>\n",
       "      <td>Gang</td>\n",
       "      <td>After falling prey to underworld, four friends...</td>\n",
       "      <td>...</td>\n",
       "      <td>0.0</td>\n",
       "      <td>152.0</td>\n",
       "      <td>[{'english_name': 'Hindi', 'iso_639_1': 'hi', ...</td>\n",
       "      <td>Released</td>\n",
       "      <td>NaN</td>\n",
       "      <td>Gang</td>\n",
       "      <td>0.0</td>\n",
       "      <td>4.000</td>\n",
       "      <td>1.0</td>\n",
       "      <td>NaN</td>\n",
       "    </tr>\n",
       "    <tr>\n",
       "      <th>4</th>\n",
       "      <td>0.0</td>\n",
       "      <td>/n4GJFGzsc7NinI1VeGDXIcQjtU2.jpg</td>\n",
       "      <td>NaN</td>\n",
       "      <td>150000.0</td>\n",
       "      <td>[{'id': 18, 'name': 'Drama'}, {'id': 10749, 'n...</td>\n",
       "      <td>http://www.wkw-inthemoodforlove.com/</td>\n",
       "      <td>843.0</td>\n",
       "      <td>cn</td>\n",
       "      <td>花樣年華</td>\n",
       "      <td>Hong Kong, 1962: Chow Mo-Wan and Su Li-Zhen mo...</td>\n",
       "      <td>...</td>\n",
       "      <td>12854953.0</td>\n",
       "      <td>99.0</td>\n",
       "      <td>[{'english_name': 'Cantonese', 'iso_639_1': 'c...</td>\n",
       "      <td>Released</td>\n",
       "      <td>Feel the heat, keep the feeling burning, let t...</td>\n",
       "      <td>In the Mood for Love</td>\n",
       "      <td>0.0</td>\n",
       "      <td>8.112</td>\n",
       "      <td>2009.0</td>\n",
       "      <td>PG</td>\n",
       "    </tr>\n",
       "  </tbody>\n",
       "</table>\n",
       "<p>5 rows × 25 columns</p>\n",
       "</div>"
      ],
      "text/plain": [
       "   adult                     backdrop_path belongs_to_collection      budget  \\\n",
       "0    NaN                               NaN                   NaN         NaN   \n",
       "1    0.0  /vMFs7nw6P0bIV1jDsQpxAieAVnH.jpg                   NaN  10000000.0   \n",
       "2    0.0                               NaN                   NaN         0.0   \n",
       "3    0.0                               NaN                   NaN         0.0   \n",
       "4    0.0  /n4GJFGzsc7NinI1VeGDXIcQjtU2.jpg                   NaN    150000.0   \n",
       "\n",
       "                                              genres  \\\n",
       "0                                                NaN   \n",
       "1  [{'id': 35, 'name': 'Comedy'}, {'id': 10402, '...   \n",
       "2           [{'id': 878, 'name': 'Science Fiction'}]   \n",
       "3  [{'id': 18, 'name': 'Drama'}, {'id': 28, 'name...   \n",
       "4  [{'id': 18, 'name': 'Drama'}, {'id': 10749, 'n...   \n",
       "\n",
       "                               homepage        id original_language  \\\n",
       "0                                   NaN       NaN               NaN   \n",
       "1                                   NaN   62127.0                en   \n",
       "2                                   NaN  110977.0                en   \n",
       "3                                   NaN  442869.0                hi   \n",
       "4  http://www.wkw-inthemoodforlove.com/     843.0                cn   \n",
       "\n",
       "    original_title                                           overview  ...  \\\n",
       "0              NaN                                                NaN  ...   \n",
       "1  The Fantasticks  Two rural teens sing and dance their way throu...  ...   \n",
       "2    For the Cause  Earth is in a state of constant war and two co...  ...   \n",
       "3             Gang  After falling prey to underworld, four friends...  ...   \n",
       "4             花樣年華  Hong Kong, 1962: Chow Mo-Wan and Su Li-Zhen mo...  ...   \n",
       "\n",
       "      revenue runtime                                   spoken_languages  \\\n",
       "0         NaN     NaN                                                NaN   \n",
       "1         0.0    86.0  [{'english_name': 'English', 'iso_639_1': 'en'...   \n",
       "2         0.0   100.0  [{'english_name': 'English', 'iso_639_1': 'en'...   \n",
       "3         0.0   152.0  [{'english_name': 'Hindi', 'iso_639_1': 'hi', ...   \n",
       "4  12854953.0    99.0  [{'english_name': 'Cantonese', 'iso_639_1': 'c...   \n",
       "\n",
       "     status                                            tagline  \\\n",
       "0       NaN                                                NaN   \n",
       "1  Released      Try to remember the first time magic happened   \n",
       "2  Released       The ultimate showdown on a forbidden planet.   \n",
       "3  Released                                                NaN   \n",
       "4  Released  Feel the heat, keep the feeling burning, let t...   \n",
       "\n",
       "                  title  video vote_average vote_count certification  \n",
       "0                   NaN    NaN          NaN        NaN           NaN  \n",
       "1       The Fantasticks    0.0        5.500       22.0           NaN  \n",
       "2         For the Cause    0.0        5.100        8.0           NaN  \n",
       "3                  Gang    0.0        4.000        1.0           NaN  \n",
       "4  In the Mood for Love    0.0        8.112     2009.0            PG  \n",
       "\n",
       "[5 rows x 25 columns]"
      ]
     },
     "metadata": {},
     "output_type": "display_data"
    },
    {
     "name": "stdout",
     "output_type": "stream",
     "text": [
      "Number of rows :  53019\n"
     ]
    }
   ],
   "source": [
    "df_combined = pd.read_csv('Data/tmdb_results_combined.csv.gz')\n",
    "display(df_combined.head())\n",
    "print(\"Number of rows : \", len(df_combined))"
   ]
  },
  {
   "cell_type": "code",
   "execution_count": 3,
   "id": "b8604e88",
   "metadata": {},
   "outputs": [
    {
     "data": {
      "image/png": "[encoded data removed]",
      "text/plain": [
       "<Figure size 800x400 with 1 Axes>"
      ]
     },
     "metadata": {},
     "output_type": "display_data"
    }
   ],
   "source": [
    "fig, ax = plt.subplots(figsize=(8,4))\n",
    "ax = sns.barplot(data=df_combined, x='certification', y='revenue', ci=55, ax=ax)\n",
    "plt.title(\"Revenue based on ratings\");\n",
    "plt.savefig('Visuals/barplot_Revenue-Ratings.png', pad_inches=1)"
   ]
  },
  {
   "cell_type": "code",
   "execution_count": 4,
   "id": "684ed5f5",
   "metadata": {},
   "outputs": [
    {
     "data": {
      "text/plain": [
       "Index(['R', 'PG-13', 'UR', 'PG', 'G', 'NC-17'], dtype='object')"
      ]
     },
     "execution_count": 4,
     "metadata": {},
     "output_type": "execute_result"
    }
   ],
   "source": [
    "# Lets get a list of ratings\n",
    "list_of_ratings = df_combined['certification'].value_counts().index\n",
    "list_of_ratings"
   ]
  },
  {
   "cell_type": "code",
   "execution_count": 5,
   "id": "fb4aced0",
   "metadata": {},
   "outputs": [],
   "source": [
    "# In this dictionary we will store the ratings as the keys and their rows as the values\n",
    "my_dfs = {}\n",
    "for i in list_of_ratings:\n",
    "    my_dfs[i] = df_combined.loc[df_combined['certification']==i, 'revenue']    "
   ]
  },
  {
   "cell_type": "code",
   "execution_count": 6,
   "id": "31b4b2a4",
   "metadata": {},
   "outputs": [
    {
     "data": {
      "text/plain": [
       "dict_keys(['R', 'PG-13', 'UR', 'PG', 'G', 'NC-17'])"
      ]
     },
     "execution_count": 6,
     "metadata": {},
     "output_type": "execute_result"
    }
   ],
   "source": [
    "my_dfs.keys()"
   ]
  },
  {
   "cell_type": "markdown",
   "id": "95a21a41",
   "metadata": {},
   "source": [
    "# Do the MPAA ratings of a movie affect how much revenue the movie generates?"
   ]
  },
  {
   "cell_type": "markdown",
   "id": "193b062e",
   "metadata": {},
   "source": [
    " - $H_0:$ The MPAA ratings have no effect how much revenue the movie generates.\n",
    " - $H_1:$ The MPAA rating does effect how much revenue the movie makes.\n",
    " \n",
    " Data Type : Numeric (Revenue)\n",
    " \n",
    " Samples: More than 2 samples/groups\n",
    " \n",
    " Test: ANOVA and/or Tukey\n",
    " \n",
    " Assumptions: \n",
    "    - No significant outliers\n",
    "    - Equal variance\n",
    "    - Normality"
   ]
  },
  {
   "cell_type": "markdown",
   "id": "9d2032f5",
   "metadata": {},
   "source": [
    "# Remove outliers"
   ]
  },
  {
   "cell_type": "code",
   "execution_count": 7,
   "id": "0ab80b6f",
   "metadata": {},
   "outputs": [],
   "source": [
    "# Test an example before running on all Series\n",
    "\n",
    "# temp = my_dfs['R']\n",
    "# zscores = stats.zscore(temp)\n",
    "# outliers = np.abs(zscores) > 3\n",
    "# temp_clean = temp[outliers == False]\n",
    "# temp_clean"
   ]
  },
  {
   "cell_type": "code",
   "execution_count": 8,
   "id": "a3b125df",
   "metadata": {},
   "outputs": [],
   "source": [
    "# function that removes outliers from a Series\n",
    "def is_outlier(temp, name): \n",
    "    zscores = stats.zscore(temp)\n",
    "    outliers = np.abs(zscores) > 3\n",
    "    temp_clean = temp[outliers == False]\n",
    "    print('Rating ', name, '\\nNumber of outliers : ', outliers.sum(), '\\n')\n",
    "    \n",
    "    return temp_clean"
   ]
  },
  {
   "cell_type": "code",
   "execution_count": 9,
   "id": "63b8897a",
   "metadata": {},
   "outputs": [],
   "source": [
    "# Test the above function\n",
    "# x = is_outlier(my_dfs['PG-13'])\n",
    "# x"
   ]
  },
  {
   "cell_type": "code",
   "execution_count": 10,
   "id": "0857ea5a",
   "metadata": {},
   "outputs": [
    {
     "name": "stdout",
     "output_type": "stream",
     "text": [
      "Rating  R \n",
      "Number of outliers :  112\n",
      "Rating  PG-13 \n",
      "Number of outliers :  80\n",
      "Rating  UR \n",
      "Number of outliers :  28\n",
      "Rating  PG \n",
      "Number of outliers :  37\n",
      "Rating  G \n",
      "Number of outliers :  10\n",
      "Rating  NC-17 \n",
      "Number of outliers :  2\n"
     ]
    }
   ],
   "source": [
    "cleaned_data = {}\n",
    "for i, df in my_dfs.items():\n",
    "    temp = is_outlier(df, i)\n",
    "    if (len(temp) > 7):\n",
    "        cleaned_data[i] = temp\n",
    "    else:\n",
    "        print(\"For rating\", i, \"there are too few entries to perform normality testing.\")"
   ]
  },
  {
   "cell_type": "markdown",
   "id": "0fbc4077",
   "metadata": {},
   "source": [
    "# Check for normality"
   ]
  },
  {
   "cell_type": "code",
   "execution_count": 11,
   "id": "29385bba",
   "metadata": {},
   "outputs": [
    {
     "name": "stdout",
     "output_type": "stream",
     "text": [
      "For ratings R the result from the normal test is 0.0\n",
      "Significant\n",
      "The number of samples we have is : 5502 \n",
      "\n",
      "For ratings PG-13 the result from the normal test is 0.0\n",
      "Significant\n",
      "The number of samples we have is : 2906 \n",
      "\n",
      "For ratings UR the result from the normal test is 0.0\n",
      "Significant\n",
      "The number of samples we have is : 2879 \n",
      "\n",
      "For ratings PG the result from the normal test is 2.3516523247501652e-166\n",
      "Significant\n",
      "The number of samples we have is : 1265 \n",
      "\n",
      "For ratings G the result from the normal test is 2.7577691161312906e-66\n",
      "Significant\n",
      "The number of samples we have is : 387 \n",
      "\n",
      "For ratings NC-17 the result from the normal test is 5.228544631680267e-39\n",
      "Significant\n",
      "The number of samples we have is : 135 \n",
      "\n"
     ]
    }
   ],
   "source": [
    "for i,data in cleaned_data.items():\n",
    "    result = stats.normaltest(data)\n",
    "    print('For ratings', i, 'the result from the normal test is', result.pvalue)\n",
    "    if(result.pvalue < .05):\n",
    "        print(\"Significant\")\n",
    "        print(\"The number of samples we have is :\", len(data), \"\\n\")\n",
    "    else:\n",
    "        print(\"Not Significant\\n\")"
   ]
  },
  {
   "cell_type": "markdown",
   "id": "781f3a03",
   "metadata": {},
   "source": [
    "Despite having a significant p-value for all of our tests, which means we failed the normality test, we can still proceed as planned because we have more then 15 samples in each group."
   ]
  },
  {
   "cell_type": "markdown",
   "id": "f01fddd3",
   "metadata": {},
   "source": [
    "# Equal Variance"
   ]
  },
  {
   "cell_type": "code",
   "execution_count": 12,
   "id": "541741c0",
   "metadata": {},
   "outputs": [
    {
     "name": "stdout",
     "output_type": "stream",
     "text": [
      "LeveneResult(statistic=273.197450345645, pvalue=8.80098127344915e-279)\n"
     ]
    }
   ],
   "source": [
    "result = stats.levene(*cleaned_data.values())\n",
    "print(result)"
   ]
  },
  {
   "cell_type": "markdown",
   "id": "9d5ecbd3",
   "metadata": {},
   "source": [
    "Because we have a significant p-value we must conclude that our data is not equally variant."
   ]
  },
  {
   "cell_type": "markdown",
   "id": "ae75ca0a",
   "metadata": {},
   "source": [
    "# Final Test"
   ]
  },
  {
   "cell_type": "code",
   "execution_count": 13,
   "id": "d807d00e",
   "metadata": {},
   "outputs": [
    {
     "name": "stdout",
     "output_type": "stream",
     "text": [
      "KruskalResult(statistic=1764.3856914319545, pvalue=0.0)\n"
     ]
    }
   ],
   "source": [
    "# Final test is kruskal\n",
    "result = stats.kruskal(*cleaned_data.values())\n",
    "print(result)"
   ]
  },
  {
   "cell_type": "markdown",
   "id": "db5e2195",
   "metadata": {},
   "source": [
    "Because we have a significant p-value we reject our null hypothesis and support our alternative hypthesis that \"The MPAA rating does effect how much revenue the movie generates\"."
   ]
  },
  {
   "cell_type": "markdown",
   "id": "8b8c617c",
   "metadata": {},
   "source": [
    "# Which ratings effect revenue"
   ]
  },
  {
   "cell_type": "markdown",
   "id": "85195c88",
   "metadata": {},
   "source": [
    "## Post-Hoc Multiple Comparison Test"
   ]
  },
  {
   "cell_type": "code",
   "execution_count": 14,
   "id": "14969adc",
   "metadata": {},
   "outputs": [
    {
     "data": {
      "text/html": [
       "<div>\n",
       "<style scoped>\n",
       "    .dataframe tbody tr th:only-of-type {\n",
       "        vertical-align: middle;\n",
       "    }\n",
       "\n",
       "    .dataframe tbody tr th {\n",
       "        vertical-align: top;\n",
       "    }\n",
       "\n",
       "    .dataframe thead th {\n",
       "        text-align: right;\n",
       "    }\n",
       "</style>\n",
       "<table border=\"1\" class=\"dataframe\">\n",
       "  <thead>\n",
       "    <tr style=\"text-align: right;\">\n",
       "      <th></th>\n",
       "      <th>Data</th>\n",
       "      <th>Rating</th>\n",
       "    </tr>\n",
       "  </thead>\n",
       "  <tbody>\n",
       "    <tr>\n",
       "      <th>5</th>\n",
       "      <td>0.0</td>\n",
       "      <td>R</td>\n",
       "    </tr>\n",
       "    <tr>\n",
       "      <th>6</th>\n",
       "      <td>0.0</td>\n",
       "      <td>R</td>\n",
       "    </tr>\n",
       "    <tr>\n",
       "      <th>7</th>\n",
       "      <td>0.0</td>\n",
       "      <td>R</td>\n",
       "    </tr>\n",
       "    <tr>\n",
       "      <th>11</th>\n",
       "      <td>14904.0</td>\n",
       "      <td>R</td>\n",
       "    </tr>\n",
       "    <tr>\n",
       "      <th>16</th>\n",
       "      <td>105983.0</td>\n",
       "      <td>R</td>\n",
       "    </tr>\n",
       "    <tr>\n",
       "      <th>...</th>\n",
       "      <td>...</td>\n",
       "      <td>...</td>\n",
       "    </tr>\n",
       "    <tr>\n",
       "      <th>49151</th>\n",
       "      <td>100000.0</td>\n",
       "      <td>NC-17</td>\n",
       "    </tr>\n",
       "    <tr>\n",
       "      <th>49666</th>\n",
       "      <td>0.0</td>\n",
       "      <td>NC-17</td>\n",
       "    </tr>\n",
       "    <tr>\n",
       "      <th>49723</th>\n",
       "      <td>0.0</td>\n",
       "      <td>NC-17</td>\n",
       "    </tr>\n",
       "    <tr>\n",
       "      <th>49968</th>\n",
       "      <td>0.0</td>\n",
       "      <td>NC-17</td>\n",
       "    </tr>\n",
       "    <tr>\n",
       "      <th>50821</th>\n",
       "      <td>0.0</td>\n",
       "      <td>NC-17</td>\n",
       "    </tr>\n",
       "  </tbody>\n",
       "</table>\n",
       "<p>13074 rows × 2 columns</p>\n",
       "</div>"
      ],
      "text/plain": [
       "           Data Rating\n",
       "5           0.0      R\n",
       "6           0.0      R\n",
       "7           0.0      R\n",
       "11      14904.0      R\n",
       "16     105983.0      R\n",
       "...         ...    ...\n",
       "49151  100000.0  NC-17\n",
       "49666       0.0  NC-17\n",
       "49723       0.0  NC-17\n",
       "49968       0.0  NC-17\n",
       "50821       0.0  NC-17\n",
       "\n",
       "[13074 rows x 2 columns]"
      ]
     },
     "execution_count": 14,
     "metadata": {},
     "output_type": "execute_result"
    }
   ],
   "source": [
    "# Make an empty list for saving our dataframes\n",
    "tukeys_dfs = []\n",
    "\n",
    "for rating, df in cleaned_data.items():\n",
    "    temp = pd.DataFrame({'Data': df, 'Rating': rating})\n",
    "    tukeys_dfs.append(temp)\n",
    "\n",
    "# Make on giant dataframe that holds all the dataframes\n",
    "tukeys_data = pd.concat(tukeys_dfs)\n",
    "tukeys_data"
   ]
  },
  {
   "cell_type": "code",
   "execution_count": 15,
   "id": "800528ab",
   "metadata": {},
   "outputs": [
    {
     "name": "stdout",
     "output_type": "stream",
     "text": [
      "          Multiple Comparison of Means - Tukey HSD, FWER=0.05           \n",
      "========================================================================\n",
      "group1 group2    meandiff    p-adj      lower          upper      reject\n",
      "------------------------------------------------------------------------\n",
      "     G  NC-17 -21231680.8639 0.0084  -38950051.027  -3513310.7009   True\n",
      "     G     PG  27302772.5155   -0.0  17005667.0247  37599878.0063   True\n",
      "     G  PG-13  28027983.4232   -0.0  18436109.4577  37619857.3887   True\n",
      "     G      R -11166034.2157 0.0084  -20488179.936  -1843888.4954   True\n",
      "     G     UR -21240703.9225    0.0 -30837862.2819  -11643545.563   True\n",
      " NC-17     PG  48534453.3794   -0.0  32484907.2042  64583999.5546   True\n",
      " NC-17  PG-13  49259664.2871   -0.0  33653204.1789  64866124.3954   True\n",
      " NC-17      R  10065646.6482 0.4285  -5376501.8996   25507795.196  False\n",
      " NC-17     UR     -9023.0586    1.0 -15618731.5605  15600685.4434  False\n",
      "    PG  PG-13    725210.9077 0.9993  -5245663.1794   6696084.9948  False\n",
      "    PG      R -38468806.7312   -0.0 -43995984.3134  -32941629.149   True\n",
      "    PG     UR  -48543476.438   -0.0 -54522835.9162 -42564116.9597   True\n",
      " PG-13      R -39194017.6389   -0.0 -43258910.8363 -35129124.4415   True\n",
      " PG-13     UR -49268687.3457   -0.0 -53929846.4775 -44607528.2139   True\n",
      "     R     UR -10074669.7068    0.0 -14152016.7747  -5997322.6388   True\n",
      "------------------------------------------------------------------------\n"
     ]
    }
   ],
   "source": [
    "values = tukeys_data['Data']\n",
    "labels = tukeys_data['Rating']\n",
    "\n",
    "# Perform test\n",
    "tukeys_result = pairwise_tukeyhsd(values, labels)\n",
    "print(tukeys_result.summary())"
   ]
  },
  {
   "cell_type": "code",
   "execution_count": 18,
   "id": "c7401058",
   "metadata": {},
   "outputs": [
    {
     "data": {
      "image/png": "[encoded data removed]",
      "text/plain": [
       "<Figure size 640x480 with 1 Axes>"
      ]
     },
     "metadata": {},
     "output_type": "display_data"
    }
   ],
   "source": [
    "# Plot results from tukeys test\n",
    "ax = sns.barplot(data=tukeys_data, x='Rating', y='Data')\n",
    "plt.title('Final Average Revenue per Rating')\n",
    "plt.savefig('Visuals/barplot_Tukeys_Data.png', pad_inches=1)"
   ]
  },
  {
   "cell_type": "code",
   "execution_count": 17,
   "id": "e0bb8511",
   "metadata": {},
   "outputs": [
    {
     "data": {
      "image/png": "[encoded data removed]",
      "text/plain": [
       "<Figure size 1000x600 with 1 Axes>"
      ]
     },
     "metadata": {},
     "output_type": "display_data"
    }
   ],
   "source": [
    "tukeys_result.plot_simultaneous();\n",
    "plt.savefig('Visuals/tukeys_plot_simultaneous.png', pad_inches=1)"
   ]
  },
  {
   "cell_type": "code",
   "execution_count": null,
   "id": "7bb9c84d",
   "metadata": {},
   "outputs": [],
   "source": []
  }
 ],
 "metadata": {
  "kernelspec": {
   "display_name": "Python (dojo-env)",
   "language": "python",
   "name": "dojo-env"
  },
  "language_info": {
   "codemirror_mode": {
    "name": "ipython",
    "version": 3
   },
   "file_extension": ".py",
   "mimetype": "text/x-python",
   "name": "python",
   "nbconvert_exporter": "python",
   "pygments_lexer": "ipython3",
   "version": "3.8.13"
  },
  "toc": {
   "base_numbering": 1,
   "nav_menu": {},
   "number_sections": false,
   "sideBar": true,
   "skip_h1_title": false,
   "title_cell": "Table of Contents",
   "title_sidebar": "Contents",
   "toc_cell": false,
   "toc_position": {},
   "toc_section_display": true,
   "toc_window_display": false
  }
 },
 "nbformat": 4,
 "nbformat_minor": 5
}
