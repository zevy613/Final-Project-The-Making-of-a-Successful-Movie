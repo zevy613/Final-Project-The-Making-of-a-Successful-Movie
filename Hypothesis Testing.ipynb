{
 "cells": [
  {
   "cell_type": "code",
   "execution_count": 39,
   "id": "facfcf6f",
   "metadata": {},
   "outputs": [],
   "source": [
    "# import necessary importa\n",
    "import json\n",
    "import pandas as pd\n",
    "import numpy as np\n",
    "import seaborn as sns\n",
    "from scipy import stats\n",
    "import matplotlib.pyplot as plt\n",
    "\n",
    "import pymysql\n",
    "pymysql.install_as_MySQLdb()\n",
    "\n",
    "from sqlalchemy import create_engine\n",
    "from sqlalchemy_utils import create_database, database_exists\n",
    "\n",
    "from urllib.parse import quote_plus as urlquote"
   ]
  },
  {
   "cell_type": "code",
   "execution_count": 40,
   "id": "d5c6e718",
   "metadata": {},
   "outputs": [
    {
     "data": {
      "text/html": [
       "<div>\n",
       "<style scoped>\n",
       "    .dataframe tbody tr th:only-of-type {\n",
       "        vertical-align: middle;\n",
       "    }\n",
       "\n",
       "    .dataframe tbody tr th {\n",
       "        vertical-align: top;\n",
       "    }\n",
       "\n",
       "    .dataframe thead th {\n",
       "        text-align: right;\n",
       "    }\n",
       "</style>\n",
       "<table border=\"1\" class=\"dataframe\">\n",
       "  <thead>\n",
       "    <tr style=\"text-align: right;\">\n",
       "      <th></th>\n",
       "      <th>imdb_id</th>\n",
       "      <th>adult</th>\n",
       "      <th>backdrop_path</th>\n",
       "      <th>belongs_to_collection</th>\n",
       "      <th>budget</th>\n",
       "      <th>genres</th>\n",
       "      <th>homepage</th>\n",
       "      <th>id</th>\n",
       "      <th>original_language</th>\n",
       "      <th>original_title</th>\n",
       "      <th>...</th>\n",
       "      <th>revenue</th>\n",
       "      <th>runtime</th>\n",
       "      <th>spoken_languages</th>\n",
       "      <th>status</th>\n",
       "      <th>tagline</th>\n",
       "      <th>title</th>\n",
       "      <th>video</th>\n",
       "      <th>vote_average</th>\n",
       "      <th>vote_count</th>\n",
       "      <th>certification</th>\n",
       "    </tr>\n",
       "  </thead>\n",
       "  <tbody>\n",
       "    <tr>\n",
       "      <th>0</th>\n",
       "      <td>0</td>\n",
       "      <td>NaN</td>\n",
       "      <td>NaN</td>\n",
       "      <td>NaN</td>\n",
       "      <td>NaN</td>\n",
       "      <td>NaN</td>\n",
       "      <td>NaN</td>\n",
       "      <td>NaN</td>\n",
       "      <td>NaN</td>\n",
       "      <td>NaN</td>\n",
       "      <td>...</td>\n",
       "      <td>NaN</td>\n",
       "      <td>NaN</td>\n",
       "      <td>NaN</td>\n",
       "      <td>NaN</td>\n",
       "      <td>NaN</td>\n",
       "      <td>NaN</td>\n",
       "      <td>NaN</td>\n",
       "      <td>NaN</td>\n",
       "      <td>NaN</td>\n",
       "      <td>NaN</td>\n",
       "    </tr>\n",
       "    <tr>\n",
       "      <th>1</th>\n",
       "      <td>tt0113026</td>\n",
       "      <td>0.0</td>\n",
       "      <td>/vMFs7nw6P0bIV1jDsQpxAieAVnH.jpg</td>\n",
       "      <td>NaN</td>\n",
       "      <td>10000000.0</td>\n",
       "      <td>[{'id': 35, 'name': 'Comedy'}, {'id': 10402, '...</td>\n",
       "      <td>NaN</td>\n",
       "      <td>62127.0</td>\n",
       "      <td>en</td>\n",
       "      <td>The Fantasticks</td>\n",
       "      <td>...</td>\n",
       "      <td>0.0</td>\n",
       "      <td>86.0</td>\n",
       "      <td>[{'english_name': 'English', 'iso_639_1': 'en'...</td>\n",
       "      <td>Released</td>\n",
       "      <td>Try to remember the first time magic happened</td>\n",
       "      <td>The Fantasticks</td>\n",
       "      <td>0.0</td>\n",
       "      <td>5.500</td>\n",
       "      <td>22.0</td>\n",
       "      <td>NaN</td>\n",
       "    </tr>\n",
       "    <tr>\n",
       "      <th>2</th>\n",
       "      <td>tt0113092</td>\n",
       "      <td>0.0</td>\n",
       "      <td>NaN</td>\n",
       "      <td>NaN</td>\n",
       "      <td>0.0</td>\n",
       "      <td>[{'id': 878, 'name': 'Science Fiction'}]</td>\n",
       "      <td>NaN</td>\n",
       "      <td>110977.0</td>\n",
       "      <td>en</td>\n",
       "      <td>For the Cause</td>\n",
       "      <td>...</td>\n",
       "      <td>0.0</td>\n",
       "      <td>100.0</td>\n",
       "      <td>[{'english_name': 'English', 'iso_639_1': 'en'...</td>\n",
       "      <td>Released</td>\n",
       "      <td>The ultimate showdown on a forbidden planet.</td>\n",
       "      <td>For the Cause</td>\n",
       "      <td>0.0</td>\n",
       "      <td>5.100</td>\n",
       "      <td>8.0</td>\n",
       "      <td>NaN</td>\n",
       "    </tr>\n",
       "    <tr>\n",
       "      <th>3</th>\n",
       "      <td>tt0116391</td>\n",
       "      <td>0.0</td>\n",
       "      <td>NaN</td>\n",
       "      <td>NaN</td>\n",
       "      <td>0.0</td>\n",
       "      <td>[{'id': 18, 'name': 'Drama'}, {'id': 28, 'name...</td>\n",
       "      <td>NaN</td>\n",
       "      <td>442869.0</td>\n",
       "      <td>hi</td>\n",
       "      <td>Gang</td>\n",
       "      <td>...</td>\n",
       "      <td>0.0</td>\n",
       "      <td>152.0</td>\n",
       "      <td>[{'english_name': 'Hindi', 'iso_639_1': 'hi', ...</td>\n",
       "      <td>Released</td>\n",
       "      <td>NaN</td>\n",
       "      <td>Gang</td>\n",
       "      <td>0.0</td>\n",
       "      <td>4.000</td>\n",
       "      <td>1.0</td>\n",
       "      <td>NaN</td>\n",
       "    </tr>\n",
       "    <tr>\n",
       "      <th>4</th>\n",
       "      <td>tt0118694</td>\n",
       "      <td>0.0</td>\n",
       "      <td>/n4GJFGzsc7NinI1VeGDXIcQjtU2.jpg</td>\n",
       "      <td>NaN</td>\n",
       "      <td>150000.0</td>\n",
       "      <td>[{'id': 18, 'name': 'Drama'}, {'id': 10749, 'n...</td>\n",
       "      <td>http://www.wkw-inthemoodforlove.com/</td>\n",
       "      <td>843.0</td>\n",
       "      <td>cn</td>\n",
       "      <td>花樣年華</td>\n",
       "      <td>...</td>\n",
       "      <td>12854953.0</td>\n",
       "      <td>99.0</td>\n",
       "      <td>[{'english_name': 'Cantonese', 'iso_639_1': 'c...</td>\n",
       "      <td>Released</td>\n",
       "      <td>Feel the heat, keep the feeling burning, let t...</td>\n",
       "      <td>In the Mood for Love</td>\n",
       "      <td>0.0</td>\n",
       "      <td>8.112</td>\n",
       "      <td>2009.0</td>\n",
       "      <td>PG</td>\n",
       "    </tr>\n",
       "  </tbody>\n",
       "</table>\n",
       "<p>5 rows × 26 columns</p>\n",
       "</div>"
      ],
      "text/plain": [
       "     imdb_id  adult                     backdrop_path belongs_to_collection  \\\n",
       "0          0    NaN                               NaN                   NaN   \n",
       "1  tt0113026    0.0  /vMFs7nw6P0bIV1jDsQpxAieAVnH.jpg                   NaN   \n",
       "2  tt0113092    0.0                               NaN                   NaN   \n",
       "3  tt0116391    0.0                               NaN                   NaN   \n",
       "4  tt0118694    0.0  /n4GJFGzsc7NinI1VeGDXIcQjtU2.jpg                   NaN   \n",
       "\n",
       "       budget                                             genres  \\\n",
       "0         NaN                                                NaN   \n",
       "1  10000000.0  [{'id': 35, 'name': 'Comedy'}, {'id': 10402, '...   \n",
       "2         0.0           [{'id': 878, 'name': 'Science Fiction'}]   \n",
       "3         0.0  [{'id': 18, 'name': 'Drama'}, {'id': 28, 'name...   \n",
       "4    150000.0  [{'id': 18, 'name': 'Drama'}, {'id': 10749, 'n...   \n",
       "\n",
       "                               homepage        id original_language  \\\n",
       "0                                   NaN       NaN               NaN   \n",
       "1                                   NaN   62127.0                en   \n",
       "2                                   NaN  110977.0                en   \n",
       "3                                   NaN  442869.0                hi   \n",
       "4  http://www.wkw-inthemoodforlove.com/     843.0                cn   \n",
       "\n",
       "    original_title  ...     revenue  runtime  \\\n",
       "0              NaN  ...         NaN      NaN   \n",
       "1  The Fantasticks  ...         0.0     86.0   \n",
       "2    For the Cause  ...         0.0    100.0   \n",
       "3             Gang  ...         0.0    152.0   \n",
       "4             花樣年華  ...  12854953.0     99.0   \n",
       "\n",
       "                                    spoken_languages    status  \\\n",
       "0                                                NaN       NaN   \n",
       "1  [{'english_name': 'English', 'iso_639_1': 'en'...  Released   \n",
       "2  [{'english_name': 'English', 'iso_639_1': 'en'...  Released   \n",
       "3  [{'english_name': 'Hindi', 'iso_639_1': 'hi', ...  Released   \n",
       "4  [{'english_name': 'Cantonese', 'iso_639_1': 'c...  Released   \n",
       "\n",
       "                                             tagline                 title  \\\n",
       "0                                                NaN                   NaN   \n",
       "1      Try to remember the first time magic happened       The Fantasticks   \n",
       "2       The ultimate showdown on a forbidden planet.         For the Cause   \n",
       "3                                                NaN                  Gang   \n",
       "4  Feel the heat, keep the feeling burning, let t...  In the Mood for Love   \n",
       "\n",
       "   video  vote_average vote_count certification  \n",
       "0    NaN           NaN        NaN           NaN  \n",
       "1    0.0         5.500       22.0           NaN  \n",
       "2    0.0         5.100        8.0           NaN  \n",
       "3    0.0         4.000        1.0           NaN  \n",
       "4    0.0         8.112     2009.0            PG  \n",
       "\n",
       "[5 rows x 26 columns]"
      ]
     },
     "execution_count": 40,
     "metadata": {},
     "output_type": "execute_result"
    }
   ],
   "source": [
    "df_combined = pd.read_csv('Data/tmdb_results_combined.csv.gz')\n",
    "df_combined.head()"
   ]
  },
  {
   "cell_type": "code",
   "execution_count": 41,
   "id": "b8604e88",
   "metadata": {},
   "outputs": [
    {
     "data": {
      "image/png": "[encoded data removed]",
      "text/plain": [
       "<Figure size 800x400 with 1 Axes>"
      ]
     },
     "metadata": {},
     "output_type": "display_data"
    }
   ],
   "source": [
    "fig, ax = plt.subplots(figsize=(8,4))\n",
    "ax = sns.barplot(data=df_combined, x='certification', y='revenue', ci=55, ax=ax)\n",
    "plt.title(\"Revenue based on ratings\");"
   ]
  },
  {
   "cell_type": "code",
   "execution_count": 42,
   "id": "684ed5f5",
   "metadata": {},
   "outputs": [],
   "source": [
    "list_of_ratings = df_combined['certification'].value_counts().index"
   ]
  },
  {
   "cell_type": "code",
   "execution_count": 44,
   "id": "fb4aced0",
   "metadata": {},
   "outputs": [],
   "source": [
    "my_dfs = {}\n",
    "for i in list_of_ratings:\n",
    "    my_dfs[i] = df_combined.loc[df_combined['certification']==i, 'revenue']    "
   ]
  },
  {
   "cell_type": "code",
   "execution_count": 45,
   "id": "31b4b2a4",
   "metadata": {},
   "outputs": [
    {
     "data": {
      "text/plain": [
       "dict_keys(['R', 'PG-13', 'NR', 'PG', 'G', 'NC-17', 'Unrated'])"
      ]
     },
     "execution_count": 45,
     "metadata": {},
     "output_type": "execute_result"
    }
   ],
   "source": [
    "my_dfs.keys()"
   ]
  },
  {
   "cell_type": "markdown",
   "id": "95a21a41",
   "metadata": {},
   "source": [
    "# Do the MPAA ratings of a movie affect how much revenue the movie generates?"
   ]
  },
  {
   "cell_type": "markdown",
   "id": "193b062e",
   "metadata": {},
   "source": [
    " - $H_0:$ The MPAA ratings have no effect how much revenue the movie generates.\n",
    " - $H_1:$ The MPAA rating does effect how much revenue the movie makes.\n",
    " \n",
    " Data Type : Numeric (Revenue)\n",
    " \n",
    " Samples: More than 2 samples/groups\n",
    " \n",
    " Test: ANOVA and/or Tukey\n",
    " \n",
    " Assumptions: \n",
    "    - No significant outliers\n",
    "    - Equal variance\n",
    "    - Normality"
   ]
  },
  {
   "cell_type": "markdown",
   "id": "9d2032f5",
   "metadata": {},
   "source": [
    "# Remove outliers"
   ]
  },
  {
   "cell_type": "code",
   "execution_count": 74,
   "id": "0ab80b6f",
   "metadata": {},
   "outputs": [],
   "source": [
    "# Test an example before running on all Series\n",
    "# temp = my_dfs['R']\n",
    "# zscores = stats.zscore(temp)\n",
    "# outliers = np.abs(zscores) > 3\n",
    "# temp_clean = temp[outliers == False]\n",
    "# temp_clean"
   ]
  },
  {
   "cell_type": "code",
   "execution_count": 57,
   "id": "a3b125df",
   "metadata": {},
   "outputs": [],
   "source": [
    "def is_outlier(temp): # removes outliers\n",
    "    zscores = stats.zscore(temp)\n",
    "    outliers = np.abs(zscores) > 3\n",
    "    temp_clean = temp[outliers == False]\n",
    "    print('Number of outliers : ', outliers.sum())\n",
    "    \n",
    "    return temp_clean"
   ]
  },
  {
   "cell_type": "code",
   "execution_count": 75,
   "id": "63b8897a",
   "metadata": {},
   "outputs": [],
   "source": [
    "# Test the above function\n",
    "# x = is_outlier(my_dfs['PG-13'])\n",
    "# x"
   ]
  },
  {
   "cell_type": "code",
   "execution_count": 64,
   "id": "0857ea5a",
   "metadata": {},
   "outputs": [
    {
     "name": "stdout",
     "output_type": "stream",
     "text": [
      "Number of outliers :  10\n",
      "Number of outliers :  4\n",
      "Number of outliers :  2\n",
      "Number of outliers :  4\n",
      "Number of outliers :  0\n",
      "Number of outliers :  0\n",
      "Number of outliers :  0\n"
     ]
    }
   ],
   "source": [
    "cleaned_data = {} # print message when not true\n",
    "for i, df in my_dfs.items():\n",
    "    temp = is_outlier(df)\n",
    "    if (len(temp) > 4):\n",
    "        cleaned_data[i] = temp"
   ]
  },
  {
   "cell_type": "markdown",
   "id": "0fbc4077",
   "metadata": {},
   "source": [
    "# Check for normality"
   ]
  },
  {
   "cell_type": "code",
   "execution_count": 70,
   "id": "29385bba",
   "metadata": {},
   "outputs": [
    {
     "name": "stdout",
     "output_type": "stream",
     "text": [
      "For ratings  R  the result from the shaprio test is 3.1547373262053816e-34\n",
      "Significant\n",
      "The number of samples we have is :  412 \n",
      "\n",
      "For ratings  PG-13  the result from the shaprio test is 3.3226987585396027e-16\n",
      "Significant\n",
      "The number of samples we have is :  164 \n",
      "\n",
      "For ratings  NR  the result from the shaprio test is 8.088910536394392e-16\n",
      "Significant\n",
      "The number of samples we have is :  60 \n",
      "\n",
      "For ratings  PG  the result from the shaprio test is 8.753607616540648e-09\n",
      "Significant\n",
      "The number of samples we have is :  54 \n",
      "\n",
      "For ratings  G  the result from the shaprio test is 0.00012857618276029825\n",
      "Significant\n",
      "The number of samples we have is :  26 \n",
      "\n",
      "For ratings  NC-17  the result from the shaprio test is 1.0\n",
      "Not Significant\n",
      "\n"
     ]
    }
   ],
   "source": [
    "for i,data in cleaned_data.items():\n",
    "    result = stats.shapiro(data)\n",
    "    print('For ratings ', i, ' the result from the shaprio test is', result.pvalue)\n",
    "    if(result.pvalue < .05):\n",
    "        print(\"Significant\")\n",
    "        print(\"The number of samples we have is : \", len(data), \"\\n\")\n",
    "    else:\n",
    "        print(\"Not Significant\\n\")"
   ]
  },
  {
   "cell_type": "markdown",
   "id": "781f3a03",
   "metadata": {},
   "source": [
    "Even for the tests have a significant p-value, which means we failed the normality test, we can still proceed as planned because we have more then 15 samples in each group."
   ]
  },
  {
   "cell_type": "markdown",
   "id": "f01fddd3",
   "metadata": {},
   "source": [
    "# Equal Variance"
   ]
  },
  {
   "cell_type": "code",
   "execution_count": 72,
   "id": "541741c0",
   "metadata": {},
   "outputs": [
    {
     "name": "stdout",
     "output_type": "stream",
     "text": [
      "LeveneResult(statistic=35.079343702736175, pvalue=3.818335937631552e-32)\n"
     ]
    }
   ],
   "source": [
    "result = stats.levene(*cleaned_data.values())\n",
    "print(result)"
   ]
  },
  {
   "cell_type": "markdown",
   "id": "9d5ecbd3",
   "metadata": {},
   "source": [
    "Because we have a significant p-value we must conclude that our data is not equally variant."
   ]
  },
  {
   "cell_type": "markdown",
   "id": "ae75ca0a",
   "metadata": {},
   "source": [
    "# Final Test"
   ]
  },
  {
   "cell_type": "code",
   "execution_count": 73,
   "id": "d807d00e",
   "metadata": {},
   "outputs": [
    {
     "name": "stdout",
     "output_type": "stream",
     "text": [
      "KruskalResult(statistic=122.26821191002445, pvalue=1.0379966950838584e-24)\n"
     ]
    }
   ],
   "source": [
    "result = stats.kruskal(*cleaned_data.values())\n",
    "print(result)"
   ]
  },
  {
   "cell_type": "markdown",
   "id": "db5e2195",
   "metadata": {},
   "source": [
    "Because we have a significant p-value we reject our null hypothesis and support our alternative hypthesis that \"The MPAA rating does effect how much revenue the movie generates."
   ]
  },
  {
   "cell_type": "code",
   "execution_count": null,
   "id": "44e6876b",
   "metadata": {},
   "outputs": [],
   "source": []
  }
 ],
 "metadata": {
  "kernelspec": {
   "display_name": "Python (dojo-env)",
   "language": "python",
   "name": "dojo-env"
  },
  "language_info": {
   "codemirror_mode": {
    "name": "ipython",
    "version": 3
   },
   "file_extension": ".py",
   "mimetype": "text/x-python",
   "name": "python",
   "nbconvert_exporter": "python",
   "pygments_lexer": "ipython3",
   "version": "3.8.13"
  },
  "toc": {
   "base_numbering": 1,
   "nav_menu": {},
   "number_sections": false,
   "sideBar": true,
   "skip_h1_title": false,
   "title_cell": "Table of Contents",
   "title_sidebar": "Contents",
   "toc_cell": false,
   "toc_position": {},
   "toc_section_display": true,
   "toc_window_display": false
  }
 },
 "nbformat": 4,
 "nbformat_minor": 5
}
