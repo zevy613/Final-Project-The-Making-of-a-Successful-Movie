{
 "cells": [
  {
   "cell_type": "markdown",
   "id": "b6b92634",
   "metadata": {},
   "source": [
    "## Import and data urls\n",
    "We will load in three tables; title_basics, titles_akas, and title_ratings"
   ]
  },
  {
   "cell_type": "code",
   "execution_count": 1,
   "id": "2e60ce4a",
   "metadata": {},
   "outputs": [],
   "source": [
    "import pandas as pd\n",
    "import numpy as np\n",
    "\n",
    "url1 = \"https://datasets.imdbws.com/title.basics.tsv.gz\"\n",
    "url2 = \"https://datasets.imdbws.com/title.akas.tsv.gz\"\n",
    "url3 = \"https://datasets.imdbws.com/title.ratings.tsv.gz\""
   ]
  },
  {
   "cell_type": "markdown",
   "id": "d0a264bb",
   "metadata": {},
   "source": [
    "## Clean akas dataframe"
   ]
  },
  {
   "cell_type": "code",
   "execution_count": 2,
   "id": "9db3f4d4",
   "metadata": {},
   "outputs": [
    {
     "name": "stdout",
     "output_type": "stream",
     "text": [
      "CPU times: total: 3min 8s\n",
      "Wall time: 5min 9s\n"
     ]
    }
   ],
   "source": [
    "%%time\n",
    "\n",
    "# Load akas Data\n",
    "# Because our data is seperated by a tab we indicate set='\\t'.\n",
    "# We will also use low_memory=False because the tables are very large\n",
    "akas = pd.read_csv(url2, sep='\\t', low_memory=False)"
   ]
  },
  {
   "cell_type": "code",
   "execution_count": 3,
   "id": "b26fac01",
   "metadata": {},
   "outputs": [
    {
     "name": "stdout",
     "output_type": "stream",
     "text": [
      "<class 'pandas.core.frame.DataFrame'>\n",
      "Int64Index: 1365387 entries, 5 to 33752672\n",
      "Data columns (total 8 columns):\n",
      " #   Column           Non-Null Count    Dtype \n",
      "---  ------           --------------    ----- \n",
      " 0   titleId          1365387 non-null  object\n",
      " 1   ordering         1365387 non-null  int64 \n",
      " 2   title            1365387 non-null  object\n",
      " 3   region           1365387 non-null  object\n",
      " 4   language         3716 non-null     object\n",
      " 5   types            965751 non-null   object\n",
      " 6   attributes       45272 non-null    object\n",
      " 7   isOriginalTitle  1364012 non-null  object\n",
      "dtypes: int64(1), object(7)\n",
      "memory usage: 93.8+ MB\n",
      "CPU times: total: 2min 11s\n",
      "Wall time: 3min 7s\n"
     ]
    }
   ],
   "source": [
    "%%time\n",
    "\n",
    "# Convert \\\\n to null (np.nan)\n",
    "akas.replace({'\\\\N':np.nan}, inplace=True)\n",
    "\n",
    "# Keep only the US movies\n",
    "akas = akas[(akas['region'] == 'US')]\n",
    "akas.info()"
   ]
  },
  {
   "cell_type": "markdown",
   "id": "af51332c",
   "metadata": {},
   "source": [
    "## Clean title.basics dataframe"
   ]
  },
  {
   "cell_type": "code",
   "execution_count": 4,
   "id": "257c6aed",
   "metadata": {},
   "outputs": [
    {
     "name": "stdout",
     "output_type": "stream",
     "text": [
      "CPU times: total: 57.9 s\n",
      "Wall time: 1min 16s\n"
     ]
    }
   ],
   "source": [
    "%%time\n",
    "\n",
    "# Load basics Data\n",
    "basics = pd.read_csv(url1, sep='\\t', low_memory=False)"
   ]
  },
  {
   "cell_type": "code",
   "execution_count": 5,
   "id": "62565209",
   "metadata": {},
   "outputs": [],
   "source": [
    "# Replace '\\\\N' with np.nan\n",
    "basics.replace({'\\\\N':np.nan}, inplace=True)"
   ]
  },
  {
   "cell_type": "code",
   "execution_count": 6,
   "id": "6e198f56",
   "metadata": {
    "scrolled": true
   },
   "outputs": [],
   "source": [
    "# Drop any rows that have null values in either genre or runtimeMinutes.\n",
    "basics = basics.dropna(subset=['runtimeMinutes', 'genres'])"
   ]
  },
  {
   "cell_type": "code",
   "execution_count": 7,
   "id": "62a3f913",
   "metadata": {},
   "outputs": [],
   "source": [
    "# Keep only titleType==Movie\n",
    "is_Movie = basics['titleType'] == 'movie'\n",
    "basics = basics[is_Movie]"
   ]
  },
  {
   "cell_type": "code",
   "execution_count": 8,
   "id": "614a9c94",
   "metadata": {},
   "outputs": [
    {
     "name": "stdout",
     "output_type": "stream",
     "text": [
      "\n",
      "Data Type before conversion :  object\n",
      "\n",
      "Data Type after conversion :  float64\n"
     ]
    }
   ],
   "source": [
    "# Drop all rows where the start year is not between 2000-2022.\n",
    "\n",
    "# We first need to change the column type to a numeric type.\n",
    "print(\"\\nData Type before conversion : \", basics['startYear'].dtype)\n",
    "basics['startYear'] = pd.to_numeric(basics['startYear'])\n",
    "print(\"\\nData Type after conversion : \", basics['startYear'].dtype)\n",
    "\n",
    "#Now we can make and apply our filters\n",
    "filter2000 = basics['startYear'] >= 2000 \n",
    "filter2022 = basics['startYear'] <=2022\n",
    "basics = basics[filter2000 & filter2022]"
   ]
  },
  {
   "cell_type": "code",
   "execution_count": 9,
   "id": "a08f24a6",
   "metadata": {},
   "outputs": [],
   "source": [
    "# Exclude movies that are included in the documentary category.\n",
    "is_documentary = basics['genres'].str.contains('documentary', case=False)\n",
    "basics = basics[~is_documentary]"
   ]
  },
  {
   "cell_type": "code",
   "execution_count": 10,
   "id": "25d4d591",
   "metadata": {},
   "outputs": [
    {
     "name": "stdout",
     "output_type": "stream",
     "text": [
      "<class 'pandas.core.frame.DataFrame'>\n",
      "Int64Index: 83336 entries, 34793 to 9354438\n",
      "Data columns (total 9 columns):\n",
      " #   Column          Non-Null Count  Dtype  \n",
      "---  ------          --------------  -----  \n",
      " 0   tconst          83336 non-null  object \n",
      " 1   titleType       83336 non-null  object \n",
      " 2   primaryTitle    83336 non-null  object \n",
      " 3   originalTitle   83336 non-null  object \n",
      " 4   isAdult         83336 non-null  object \n",
      " 5   startYear       83336 non-null  float64\n",
      " 6   endYear         0 non-null      object \n",
      " 7   runtimeMinutes  83336 non-null  object \n",
      " 8   genres          83336 non-null  object \n",
      "dtypes: float64(1), object(8)\n",
      "memory usage: 6.4+ MB\n"
     ]
    }
   ],
   "source": [
    "# Filter the basics table down to only include the US movies by using the filtered akas dataframe above\n",
    "keepers_basics = basics['tconst'].isin(akas['titleId'])\n",
    "basics = basics[keepers_basics]\n",
    "\n",
    "basics.info()"
   ]
  },
  {
   "cell_type": "markdown",
   "id": "17072ec7",
   "metadata": {},
   "source": [
    "## Clean ratings dataframe"
   ]
  },
  {
   "cell_type": "code",
   "execution_count": 11,
   "id": "387843bc",
   "metadata": {},
   "outputs": [
    {
     "name": "stdout",
     "output_type": "stream",
     "text": [
      "CPU times: total: 2.14 s\n",
      "Wall time: 3.08 s\n"
     ]
    }
   ],
   "source": [
    "%%time\n",
    "\n",
    "# Load ratings Data\n",
    "ratings = pd.read_csv(url3, sep='\\t', low_memory=False)"
   ]
  },
  {
   "cell_type": "code",
   "execution_count": 12,
   "id": "3d0e34d4",
   "metadata": {},
   "outputs": [
    {
     "name": "stdout",
     "output_type": "stream",
     "text": [
      "<class 'pandas.core.frame.DataFrame'>\n",
      "Int64Index: 473951 entries, 0 to 1245157\n",
      "Data columns (total 3 columns):\n",
      " #   Column         Non-Null Count   Dtype  \n",
      "---  ------         --------------   -----  \n",
      " 0   tconst         473951 non-null  object \n",
      " 1   averageRating  473951 non-null  float64\n",
      " 2   numVotes       473951 non-null  int64  \n",
      "dtypes: float64(1), int64(1), object(1)\n",
      "memory usage: 14.5+ MB\n"
     ]
    }
   ],
   "source": [
    "# Replace \\\\n with null\n",
    "ratings.replace({'\\\\N':np.nan}, inplace=True)\n",
    "\n",
    "# Filter the ratings table down to only include the US movies by using the filtered akas dataframe\n",
    "keepers = ratings['tconst'].isin(akas['titleId'])\n",
    "ratings = ratings[keepers]\n",
    "\n",
    "ratings.info()"
   ]
  },
  {
   "cell_type": "markdown",
   "id": "70289ce6",
   "metadata": {},
   "source": [
    "## save cleaned files in Data folder"
   ]
  },
  {
   "cell_type": "code",
   "execution_count": 13,
   "id": "5d466d68",
   "metadata": {},
   "outputs": [
    {
     "name": "stdout",
     "output_type": "stream",
     "text": [
      "Done!\n"
     ]
    }
   ],
   "source": [
    "# Save current dataframes to files.\n",
    "basics.to_csv(\"Data/title_basics.csv.gz\",compression='gzip',index=False)\n",
    "akas.to_csv(\"Data/title_akas.csv.gz\",compression='gzip',index=False)\n",
    "ratings.to_csv(\"Data/title_ratings.csv.gz\",compression='gzip',index=False)\n",
    "print(\"Done!\")"
   ]
  }
 ],
 "metadata": {
  "kernelspec": {
   "display_name": "Python (dojo-env)",
   "language": "python",
   "name": "dojo-env"
  },
  "language_info": {
   "codemirror_mode": {
    "name": "ipython",
    "version": 3
   },
   "file_extension": ".py",
   "mimetype": "text/x-python",
   "name": "python",
   "nbconvert_exporter": "python",
   "pygments_lexer": "ipython3",
   "version": "3.8.13"
  },
  "toc": {
   "base_numbering": "",
   "nav_menu": {},
   "number_sections": false,
   "sideBar": false,
   "skip_h1_title": false,
   "title_cell": "Table of Contents",
   "title_sidebar": "Contents",
   "toc_cell": false,
   "toc_position": {
    "height": "397.333px",
    "left": "21px",
    "top": "111.125px",
    "width": "256px"
   },
   "toc_section_display": false,
   "toc_window_display": false
  }
 },
 "nbformat": 4,
 "nbformat_minor": 5
}
